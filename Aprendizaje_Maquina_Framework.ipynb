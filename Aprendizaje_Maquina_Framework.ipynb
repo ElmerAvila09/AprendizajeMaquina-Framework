{
  "nbformat": 4,
  "nbformat_minor": 0,
  "metadata": {
    "colab": {
      "provenance": [],
      "toc_visible": true,
      "collapsed_sections": [],
      "authorship_tag": "ABX9TyN8nLW+jzumPxS5t59wt3tr"
    },
    "kernelspec": {
      "name": "python3",
      "display_name": "Python 3"
    },
    "language_info": {
      "name": "python"
    }
  },
  "cells": [
    {
      "cell_type": "markdown",
      "source": [
        "# Importación de los Datos"
      ],
      "metadata": {
        "id": "d229UBYBy7Vx"
      }
    },
    {
      "cell_type": "code",
      "execution_count": 22,
      "metadata": {
        "colab": {
          "base_uri": "https://localhost:8080/"
        },
        "id": "EaqPe8cmtJl-",
        "outputId": "ff27eb6f-1d11-4acb-983b-2d917fe299ce"
      },
      "outputs": [
        {
          "output_type": "stream",
          "name": "stdout",
          "text": [
            "<class 'pandas.core.frame.DataFrame'>\n",
            "RangeIndex: 178 entries, 0 to 177\n",
            "Data columns (total 14 columns):\n",
            " #   Column                        Non-Null Count  Dtype  \n",
            "---  ------                        --------------  -----  \n",
            " 0   Class                         178 non-null    int64  \n",
            " 1   Alcohol                       178 non-null    float64\n",
            " 2   Malic Acid                    178 non-null    float64\n",
            " 3   Ash                           178 non-null    float64\n",
            " 4   Alcalinity of Ash             178 non-null    float64\n",
            " 5   Magnesium                     178 non-null    int64  \n",
            " 6   Total Phenols                 178 non-null    float64\n",
            " 7   Flavanoids                    178 non-null    float64\n",
            " 8   Nonflavanoid phenols          178 non-null    float64\n",
            " 9   Proanthocyanins               178 non-null    float64\n",
            " 10  Color intensity               178 non-null    float64\n",
            " 11  Hue                           178 non-null    float64\n",
            " 12  OD280/OD315 of diluted wines  178 non-null    float64\n",
            " 13  Proline                       178 non-null    int64  \n",
            "dtypes: float64(11), int64(3)\n",
            "memory usage: 19.6 KB\n",
            "None\n"
          ]
        }
      ],
      "source": [
        "import pandas as pd\n",
        "import numpy as np\n",
        "\n",
        "# Nombre de las columnas\n",
        "columns = [\"Class\", \"Alcohol\", \"Malic Acid\", \"Ash\", \"Alcalinity of Ash\", \"Magnesium\", \"Total Phenols\", \"Flavanoids\", \"Nonflavanoid phenols\", \"Proanthocyanins\", \"Color intensity\", \"Hue\", \"OD280/OD315 of diluted wines\", \"Proline\"]\n",
        "\n",
        "# Importacion\n",
        "data = pd.read_csv('wine.data', names = columns)\n",
        "print(data.info())"
      ]
    },
    {
      "cell_type": "markdown",
      "source": [
        "# Selección de los Datos\n",
        "El modelo se encargará de predecir la clase de vino a la que pertenece cada registro, por ello, nuestro atributo \"class\" será la variable dependiente.\n",
        "\n",
        "A continuación se realiza la division de variables, datos de entrenamiento y datos de prueba."
      ],
      "metadata": {
        "id": "s6G7Tf574NKl"
      }
    },
    {
      "cell_type": "code",
      "source": [
        "from sklearn.model_selection import train_test_split"
      ],
      "metadata": {
        "id": "cgVsJP1X4Ygp"
      },
      "execution_count": 23,
      "outputs": []
    },
    {
      "cell_type": "code",
      "source": [
        "# Separacion variables independientes y dependiente\n",
        "x = data[columns[1:]]\n",
        "y = data[columns[0]]\n",
        "\n",
        "# Separación de los datos de entrenamiento y de prueba. (70% entrenamiento / 30% Prueba)\n",
        "x_train, x_test, y_train, y_test = train_test_split(x, y, train_size = 0.7)\n",
        "\n",
        "print('Total de datos:', len(data))\n",
        "print('No. de datos de entreamiento:', len(x_train))\n",
        "print('No. de datos para prediccion:', len(x_test))"
      ],
      "metadata": {
        "colab": {
          "base_uri": "https://localhost:8080/"
        },
        "id": "q1rmxDnA0gUJ",
        "outputId": "234924bf-6532-45c2-a7d0-4fe46f7fb390"
      },
      "execution_count": 24,
      "outputs": [
        {
          "output_type": "stream",
          "name": "stdout",
          "text": [
            "Total de datos: 178\n",
            "No. de datos de entreamiento: 124\n",
            "No. de datos para prediccion: 54\n"
          ]
        }
      ]
    },
    {
      "cell_type": "markdown",
      "source": [
        "# Implementacion del Modelo\n",
        "\n",
        "##### Debido a que se busca asignar una clase a cada uno de los registros se necesita un modelo de clasificación, es por ello que se emplea el siguiente modelo:\n",
        "---\n",
        "### **Árbol de Decisión** / Métrica Calidad de Información: Entropía"
      ],
      "metadata": {
        "id": "s0awQOAL8Haj"
      }
    },
    {
      "cell_type": "code",
      "source": [
        "# Importacion del modelo\n",
        "from sklearn.ensemble import RandomForestClassifier\n",
        "from sklearn.tree import DecisionTreeClassifier, export_graphviz\n",
        "import graphviz"
      ],
      "metadata": {
        "id": "jZtDPvhSBRHR"
      },
      "execution_count": 25,
      "outputs": []
    },
    {
      "cell_type": "code",
      "source": [
        "# Instanciación del modelo\n",
        "model = DecisionTreeClassifier(criterion = \"entropy\")\n",
        "\n",
        "# Entrenamiento del modelo\n",
        "model.fit(x_train, y_train)"
      ],
      "metadata": {
        "colab": {
          "base_uri": "https://localhost:8080/"
        },
        "id": "-s-AvJsRF52v",
        "outputId": "d94af3ea-3180-46cf-ce4c-a907a4348287"
      },
      "execution_count": 26,
      "outputs": [
        {
          "output_type": "execute_result",
          "data": {
            "text/plain": [
              "DecisionTreeClassifier(criterion='entropy')"
            ]
          },
          "metadata": {},
          "execution_count": 26
        }
      ]
    },
    {
      "cell_type": "markdown",
      "source": [
        "### Visualicación del Modelo Obtenido:"
      ],
      "metadata": {
        "id": "ZY0uoSM-Lk3q"
      }
    },
    {
      "cell_type": "code",
      "source": [
        "treeData = export_graphviz(model, filled=True, proportion=True, rotate = True)\n",
        "graphviz.Source(treeData)"
      ],
      "metadata": {
        "id": "lPp7GPdKKRn7",
        "colab": {
          "base_uri": "https://localhost:8080/",
          "height": 618
        },
        "outputId": "98e9f2b4-ce30-4dfb-9a65-0ca411eb6df4"
      },
      "execution_count": 27,
      "outputs": [
        {
          "output_type": "execute_result",
          "data": {
            "text/plain": [
              "<graphviz.files.Source at 0x7fe305378d10>"
            ],
            "image/svg+xml": "<?xml version=\"1.0\" encoding=\"UTF-8\" standalone=\"no\"?>\n<!DOCTYPE svg PUBLIC \"-//W3C//DTD SVG 1.1//EN\"\n \"http://www.w3.org/Graphics/SVG/1.1/DTD/svg11.dtd\">\n<!-- Generated by graphviz version 2.40.1 (20161225.0304)\n -->\n<!-- Title: Tree Pages: 1 -->\n<svg width=\"1290pt\" height=\"432pt\"\n viewBox=\"0.00 0.00 1290.00 432.00\" xmlns=\"http://www.w3.org/2000/svg\" xmlns:xlink=\"http://www.w3.org/1999/xlink\">\n<g id=\"graph0\" class=\"graph\" transform=\"scale(1 1) rotate(0) translate(4 428)\">\n<title>Tree</title>\n<polygon fill=\"#ffffff\" stroke=\"transparent\" points=\"-4,4 -4,-428 1286,-428 1286,4 -4,4\"/>\n<!-- 0 -->\n<g id=\"node1\" class=\"node\">\n<title>0</title>\n<polygon fill=\"#fefcfa\" stroke=\"#000000\" points=\"200,-308.5 0,-308.5 0,-240.5 200,-240.5 200,-308.5\"/>\n<text text-anchor=\"middle\" x=\"100\" y=\"-293.3\" font-family=\"Helvetica,sans-Serif\" font-size=\"14.00\" fill=\"#000000\">X[12] &lt;= 755.0</text>\n<text text-anchor=\"middle\" x=\"100\" y=\"-278.3\" font-family=\"Helvetica,sans-Serif\" font-size=\"14.00\" fill=\"#000000\">entropy = 1.565</text>\n<text text-anchor=\"middle\" x=\"100\" y=\"-263.3\" font-family=\"Helvetica,sans-Serif\" font-size=\"14.00\" fill=\"#000000\">samples = 100.0%</text>\n<text text-anchor=\"middle\" x=\"100\" y=\"-248.3\" font-family=\"Helvetica,sans-Serif\" font-size=\"14.00\" fill=\"#000000\">value = [0.379, 0.363, 0.258]</text>\n</g>\n<!-- 1 -->\n<g id=\"node2\" class=\"node\">\n<title>1</title>\n<polygon fill=\"#c3f7d9\" stroke=\"#000000\" points=\"436,-352.5 236,-352.5 236,-284.5 436,-284.5 436,-352.5\"/>\n<text text-anchor=\"middle\" x=\"336\" y=\"-337.3\" font-family=\"Helvetica,sans-Serif\" font-size=\"14.00\" fill=\"#000000\">X[9] &lt;= 3.825</text>\n<text text-anchor=\"middle\" x=\"336\" y=\"-322.3\" font-family=\"Helvetica,sans-Serif\" font-size=\"14.00\" fill=\"#000000\">entropy = 1.068</text>\n<text text-anchor=\"middle\" x=\"336\" y=\"-307.3\" font-family=\"Helvetica,sans-Serif\" font-size=\"14.00\" fill=\"#000000\">samples = 58.1%</text>\n<text text-anchor=\"middle\" x=\"336\" y=\"-292.3\" font-family=\"Helvetica,sans-Serif\" font-size=\"14.00\" fill=\"#000000\">value = [0.014, 0.583, 0.403]</text>\n</g>\n<!-- 0&#45;&gt;1 -->\n<g id=\"edge1\" class=\"edge\">\n<title>0&#45;&gt;1</title>\n<path fill=\"none\" stroke=\"#000000\" d=\"M200.0852,-293.16C208.573,-294.7424 217.1874,-296.3485 225.7472,-297.9444\"/>\n<polygon fill=\"#000000\" stroke=\"#000000\" points=\"225.2876,-301.4189 235.7597,-299.8111 226.5706,-294.5375 225.2876,-301.4189\"/>\n<text text-anchor=\"middle\" x=\"215.1415\" y=\"-310.2493\" font-family=\"Helvetica,sans-Serif\" font-size=\"14.00\" fill=\"#000000\">True</text>\n</g>\n<!-- 10 -->\n<g id=\"node11\" class=\"node\">\n<title>10</title>\n<polygon fill=\"#e89051\" stroke=\"#000000\" points=\"436,-241.5 236,-241.5 236,-173.5 436,-173.5 436,-241.5\"/>\n<text text-anchor=\"middle\" x=\"336\" y=\"-226.3\" font-family=\"Helvetica,sans-Serif\" font-size=\"14.00\" fill=\"#000000\">X[6] &lt;= 2.165</text>\n<text text-anchor=\"middle\" x=\"336\" y=\"-211.3\" font-family=\"Helvetica,sans-Serif\" font-size=\"14.00\" fill=\"#000000\">entropy = 0.631</text>\n<text text-anchor=\"middle\" x=\"336\" y=\"-196.3\" font-family=\"Helvetica,sans-Serif\" font-size=\"14.00\" fill=\"#000000\">samples = 41.9%</text>\n<text text-anchor=\"middle\" x=\"336\" y=\"-181.3\" font-family=\"Helvetica,sans-Serif\" font-size=\"14.00\" fill=\"#000000\">value = [0.885, 0.058, 0.058]</text>\n</g>\n<!-- 0&#45;&gt;10 -->\n<g id=\"edge10\" class=\"edge\">\n<title>0&#45;&gt;10</title>\n<path fill=\"none\" stroke=\"#000000\" d=\"M200.0852,-246.086C208.6653,-243.6501 217.3747,-241.1775 226.0263,-238.7213\"/>\n<polygon fill=\"#000000\" stroke=\"#000000\" points=\"227.0958,-242.0561 235.7597,-235.958 225.184,-235.3222 227.0958,-242.0561\"/>\n<text text-anchor=\"middle\" x=\"213.9262\" y=\"-220.0803\" font-family=\"Helvetica,sans-Serif\" font-size=\"14.00\" fill=\"#000000\">False</text>\n</g>\n<!-- 2 -->\n<g id=\"node3\" class=\"node\">\n<title>2</title>\n<polygon fill=\"#39e581\" stroke=\"#000000\" points=\"647.5,-424 496.5,-424 496.5,-371 647.5,-371 647.5,-424\"/>\n<text text-anchor=\"middle\" x=\"572\" y=\"-408.8\" font-family=\"Helvetica,sans-Serif\" font-size=\"14.00\" fill=\"#000000\">entropy = 0.0</text>\n<text text-anchor=\"middle\" x=\"572\" y=\"-393.8\" font-family=\"Helvetica,sans-Serif\" font-size=\"14.00\" fill=\"#000000\">samples = 28.2%</text>\n<text text-anchor=\"middle\" x=\"572\" y=\"-378.8\" font-family=\"Helvetica,sans-Serif\" font-size=\"14.00\" fill=\"#000000\">value = [0.0, 1.0, 0.0]</text>\n</g>\n<!-- 1&#45;&gt;2 -->\n<g id=\"edge2\" class=\"edge\">\n<title>1&#45;&gt;2</title>\n<path fill=\"none\" stroke=\"#000000\" d=\"M436.0852,-352.0031C452.9931,-357.6629 470.4033,-363.4909 486.8836,-369.0076\"/>\n<polygon fill=\"#000000\" stroke=\"#000000\" points=\"485.8747,-372.3608 496.4686,-372.2162 488.0968,-365.7228 485.8747,-372.3608\"/>\n</g>\n<!-- 3 -->\n<g id=\"node4\" class=\"node\">\n<title>3</title>\n<polygon fill=\"#a36eec\" stroke=\"#000000\" points=\"672,-352.5 472,-352.5 472,-284.5 672,-284.5 672,-352.5\"/>\n<text text-anchor=\"middle\" x=\"572\" y=\"-337.3\" font-family=\"Helvetica,sans-Serif\" font-size=\"14.00\" fill=\"#000000\">X[6] &lt;= 1.4</text>\n<text text-anchor=\"middle\" x=\"572\" y=\"-322.3\" font-family=\"Helvetica,sans-Serif\" font-size=\"14.00\" fill=\"#000000\">entropy = 0.871</text>\n<text text-anchor=\"middle\" x=\"572\" y=\"-307.3\" font-family=\"Helvetica,sans-Serif\" font-size=\"14.00\" fill=\"#000000\">samples = 29.8%</text>\n<text text-anchor=\"middle\" x=\"572\" y=\"-292.3\" font-family=\"Helvetica,sans-Serif\" font-size=\"14.00\" fill=\"#000000\">value = [0.027, 0.189, 0.784]</text>\n</g>\n<!-- 1&#45;&gt;3 -->\n<g id=\"edge3\" class=\"edge\">\n<title>1&#45;&gt;3</title>\n<path fill=\"none\" stroke=\"#000000\" d=\"M436.0852,-318.5C444.573,-318.5 453.1874,-318.5 461.7472,-318.5\"/>\n<polygon fill=\"#000000\" stroke=\"#000000\" points=\"461.7597,-322.0001 471.7597,-318.5 461.7597,-315.0001 461.7597,-322.0001\"/>\n</g>\n<!-- 4 -->\n<g id=\"node5\" class=\"node\">\n<title>4</title>\n<polygon fill=\"#8139e5\" stroke=\"#000000\" points=\"883.5,-424 732.5,-424 732.5,-371 883.5,-371 883.5,-424\"/>\n<text text-anchor=\"middle\" x=\"808\" y=\"-408.8\" font-family=\"Helvetica,sans-Serif\" font-size=\"14.00\" fill=\"#000000\">entropy = 0.0</text>\n<text text-anchor=\"middle\" x=\"808\" y=\"-393.8\" font-family=\"Helvetica,sans-Serif\" font-size=\"14.00\" fill=\"#000000\">samples = 22.6%</text>\n<text text-anchor=\"middle\" x=\"808\" y=\"-378.8\" font-family=\"Helvetica,sans-Serif\" font-size=\"14.00\" fill=\"#000000\">value = [0.0, 0.0, 1.0]</text>\n</g>\n<!-- 3&#45;&gt;4 -->\n<g id=\"edge4\" class=\"edge\">\n<title>3&#45;&gt;4</title>\n<path fill=\"none\" stroke=\"#000000\" d=\"M672.0852,-352.0031C688.9931,-357.6629 706.4033,-363.4909 722.8836,-369.0076\"/>\n<polygon fill=\"#000000\" stroke=\"#000000\" points=\"721.8747,-372.3608 732.4686,-372.2162 724.0968,-365.7228 721.8747,-372.3608\"/>\n</g>\n<!-- 5 -->\n<g id=\"node6\" class=\"node\">\n<title>5</title>\n<polygon fill=\"#6aeca0\" stroke=\"#000000\" points=\"908,-352.5 708,-352.5 708,-284.5 908,-284.5 908,-352.5\"/>\n<text text-anchor=\"middle\" x=\"808\" y=\"-337.3\" font-family=\"Helvetica,sans-Serif\" font-size=\"14.00\" fill=\"#000000\">X[0] &lt;= 13.175</text>\n<text text-anchor=\"middle\" x=\"808\" y=\"-322.3\" font-family=\"Helvetica,sans-Serif\" font-size=\"14.00\" fill=\"#000000\">entropy = 0.986</text>\n<text text-anchor=\"middle\" x=\"808\" y=\"-307.3\" font-family=\"Helvetica,sans-Serif\" font-size=\"14.00\" fill=\"#000000\">samples = 7.3%</text>\n<text text-anchor=\"middle\" x=\"808\" y=\"-292.3\" font-family=\"Helvetica,sans-Serif\" font-size=\"14.00\" fill=\"#000000\">value = [0.111, 0.778, 0.111]</text>\n</g>\n<!-- 3&#45;&gt;5 -->\n<g id=\"edge5\" class=\"edge\">\n<title>3&#45;&gt;5</title>\n<path fill=\"none\" stroke=\"#000000\" d=\"M672.0852,-318.5C680.573,-318.5 689.1874,-318.5 697.7472,-318.5\"/>\n<polygon fill=\"#000000\" stroke=\"#000000\" points=\"697.7597,-322.0001 707.7597,-318.5 697.7597,-315.0001 697.7597,-322.0001\"/>\n</g>\n<!-- 6 -->\n<g id=\"node7\" class=\"node\">\n<title>6</title>\n<polygon fill=\"#39e581\" stroke=\"#000000\" points=\"1095,-384 944,-384 944,-331 1095,-331 1095,-384\"/>\n<text text-anchor=\"middle\" x=\"1019.5\" y=\"-368.8\" font-family=\"Helvetica,sans-Serif\" font-size=\"14.00\" fill=\"#000000\">entropy = 0.0</text>\n<text text-anchor=\"middle\" x=\"1019.5\" y=\"-353.8\" font-family=\"Helvetica,sans-Serif\" font-size=\"14.00\" fill=\"#000000\">samples = 5.6%</text>\n<text text-anchor=\"middle\" x=\"1019.5\" y=\"-338.8\" font-family=\"Helvetica,sans-Serif\" font-size=\"14.00\" fill=\"#000000\">value = [0.0, 1.0, 0.0]</text>\n</g>\n<!-- 5&#45;&gt;6 -->\n<g id=\"edge6\" class=\"edge\">\n<title>5&#45;&gt;6</title>\n<path fill=\"none\" stroke=\"#000000\" d=\"M908.1756,-336.9721C916.7706,-338.557 925.4148,-340.151 933.8804,-341.712\"/>\n<polygon fill=\"#000000\" stroke=\"#000000\" points=\"933.2535,-345.1553 943.7224,-343.5268 934.5229,-338.2714 933.2535,-345.1553\"/>\n</g>\n<!-- 7 -->\n<g id=\"node8\" class=\"node\">\n<title>7</title>\n<polygon fill=\"#ffffff\" stroke=\"#000000\" points=\"1095,-312.5 944,-312.5 944,-244.5 1095,-244.5 1095,-312.5\"/>\n<text text-anchor=\"middle\" x=\"1019.5\" y=\"-297.3\" font-family=\"Helvetica,sans-Serif\" font-size=\"14.00\" fill=\"#000000\">X[6] &lt;= 2.13</text>\n<text text-anchor=\"middle\" x=\"1019.5\" y=\"-282.3\" font-family=\"Helvetica,sans-Serif\" font-size=\"14.00\" fill=\"#000000\">entropy = 1.0</text>\n<text text-anchor=\"middle\" x=\"1019.5\" y=\"-267.3\" font-family=\"Helvetica,sans-Serif\" font-size=\"14.00\" fill=\"#000000\">samples = 1.6%</text>\n<text text-anchor=\"middle\" x=\"1019.5\" y=\"-252.3\" font-family=\"Helvetica,sans-Serif\" font-size=\"14.00\" fill=\"#000000\">value = [0.5, 0.0, 0.5]</text>\n</g>\n<!-- 5&#45;&gt;7 -->\n<g id=\"edge7\" class=\"edge\">\n<title>5&#45;&gt;7</title>\n<path fill=\"none\" stroke=\"#000000\" d=\"M908.1756,-299.5543C916.7706,-297.9287 925.4148,-296.2939 933.8804,-294.6928\"/>\n<polygon fill=\"#000000\" stroke=\"#000000\" points=\"934.547,-298.1289 943.7224,-292.8315 933.2461,-291.2508 934.547,-298.1289\"/>\n</g>\n<!-- 8 -->\n<g id=\"node9\" class=\"node\">\n<title>8</title>\n<polygon fill=\"#8139e5\" stroke=\"#000000\" points=\"1282,-341 1131,-341 1131,-288 1282,-288 1282,-341\"/>\n<text text-anchor=\"middle\" x=\"1206.5\" y=\"-325.8\" font-family=\"Helvetica,sans-Serif\" font-size=\"14.00\" fill=\"#000000\">entropy = 0.0</text>\n<text text-anchor=\"middle\" x=\"1206.5\" y=\"-310.8\" font-family=\"Helvetica,sans-Serif\" font-size=\"14.00\" fill=\"#000000\">samples = 0.8%</text>\n<text text-anchor=\"middle\" x=\"1206.5\" y=\"-295.8\" font-family=\"Helvetica,sans-Serif\" font-size=\"14.00\" fill=\"#000000\">value = [0.0, 0.0, 1.0]</text>\n</g>\n<!-- 7&#45;&gt;8 -->\n<g id=\"edge8\" class=\"edge\">\n<title>7&#45;&gt;8</title>\n<path fill=\"none\" stroke=\"#000000\" d=\"M1095.021,-293.0388C1103.4724,-294.6658 1112.1275,-296.332 1120.6957,-297.9815\"/>\n<polygon fill=\"#000000\" stroke=\"#000000\" points=\"1120.2155,-301.4533 1130.6969,-299.9069 1121.5389,-294.5795 1120.2155,-301.4533\"/>\n</g>\n<!-- 9 -->\n<g id=\"node10\" class=\"node\">\n<title>9</title>\n<polygon fill=\"#e58139\" stroke=\"#000000\" points=\"1282,-270 1131,-270 1131,-217 1282,-217 1282,-270\"/>\n<text text-anchor=\"middle\" x=\"1206.5\" y=\"-254.8\" font-family=\"Helvetica,sans-Serif\" font-size=\"14.00\" fill=\"#000000\">entropy = 0.0</text>\n<text text-anchor=\"middle\" x=\"1206.5\" y=\"-239.8\" font-family=\"Helvetica,sans-Serif\" font-size=\"14.00\" fill=\"#000000\">samples = 0.8%</text>\n<text text-anchor=\"middle\" x=\"1206.5\" y=\"-224.8\" font-family=\"Helvetica,sans-Serif\" font-size=\"14.00\" fill=\"#000000\">value = [1.0, 0.0, 0.0]</text>\n</g>\n<!-- 7&#45;&gt;9 -->\n<g id=\"edge9\" class=\"edge\">\n<title>7&#45;&gt;9</title>\n<path fill=\"none\" stroke=\"#000000\" d=\"M1095.021,-264.365C1103.4724,-262.7832 1112.1275,-261.1633 1120.6957,-259.5596\"/>\n<polygon fill=\"#000000\" stroke=\"#000000\" points=\"1121.5115,-262.9678 1130.6969,-257.6877 1120.2236,-256.0873 1121.5115,-262.9678\"/>\n</g>\n<!-- 11 -->\n<g id=\"node12\" class=\"node\">\n<title>11</title>\n<polygon fill=\"#d5bdf6\" stroke=\"#000000\" points=\"647.5,-241.5 496.5,-241.5 496.5,-173.5 647.5,-173.5 647.5,-241.5\"/>\n<text text-anchor=\"middle\" x=\"572\" y=\"-226.3\" font-family=\"Helvetica,sans-Serif\" font-size=\"14.00\" fill=\"#000000\">X[6] &lt;= 0.855</text>\n<text text-anchor=\"middle\" x=\"572\" y=\"-211.3\" font-family=\"Helvetica,sans-Serif\" font-size=\"14.00\" fill=\"#000000\">entropy = 0.971</text>\n<text text-anchor=\"middle\" x=\"572\" y=\"-196.3\" font-family=\"Helvetica,sans-Serif\" font-size=\"14.00\" fill=\"#000000\">samples = 4.0%</text>\n<text text-anchor=\"middle\" x=\"572\" y=\"-181.3\" font-family=\"Helvetica,sans-Serif\" font-size=\"14.00\" fill=\"#000000\">value = [0.0, 0.4, 0.6]</text>\n</g>\n<!-- 10&#45;&gt;11 -->\n<g id=\"edge11\" class=\"edge\">\n<title>10&#45;&gt;11</title>\n<path fill=\"none\" stroke=\"#000000\" d=\"M436.0852,-207.5C452.8351,-207.5 470.0779,-207.5 486.4213,-207.5\"/>\n<polygon fill=\"#000000\" stroke=\"#000000\" points=\"486.4686,-211.0001 496.4686,-207.5 486.4686,-204.0001 486.4686,-211.0001\"/>\n</g>\n<!-- 14 -->\n<g id=\"node15\" class=\"node\">\n<title>14</title>\n<polygon fill=\"#e6843d\" stroke=\"#000000\" points=\"664,-131.5 480,-131.5 480,-63.5 664,-63.5 664,-131.5\"/>\n<text text-anchor=\"middle\" x=\"572\" y=\"-116.3\" font-family=\"Helvetica,sans-Serif\" font-size=\"14.00\" fill=\"#000000\">X[3] &lt;= 27.5</text>\n<text text-anchor=\"middle\" x=\"572\" y=\"-101.3\" font-family=\"Helvetica,sans-Serif\" font-size=\"14.00\" fill=\"#000000\">entropy = 0.149</text>\n<text text-anchor=\"middle\" x=\"572\" y=\"-86.3\" font-family=\"Helvetica,sans-Serif\" font-size=\"14.00\" fill=\"#000000\">samples = 37.9%</text>\n<text text-anchor=\"middle\" x=\"572\" y=\"-71.3\" font-family=\"Helvetica,sans-Serif\" font-size=\"14.00\" fill=\"#000000\">value = [0.979, 0.021, 0.0]</text>\n</g>\n<!-- 10&#45;&gt;14 -->\n<g id=\"edge14\" class=\"edge\">\n<title>10&#45;&gt;14</title>\n<path fill=\"none\" stroke=\"#000000\" d=\"M409.0557,-173.4486C434.6067,-161.5392 463.4632,-148.0892 489.7157,-135.8528\"/>\n<polygon fill=\"#000000\" stroke=\"#000000\" points=\"491.2981,-138.9769 498.8833,-131.5798 488.3408,-132.6322 491.2981,-138.9769\"/>\n</g>\n<!-- 12 -->\n<g id=\"node13\" class=\"node\">\n<title>12</title>\n<polygon fill=\"#8139e5\" stroke=\"#000000\" points=\"883.5,-266 732.5,-266 732.5,-213 883.5,-213 883.5,-266\"/>\n<text text-anchor=\"middle\" x=\"808\" y=\"-250.8\" font-family=\"Helvetica,sans-Serif\" font-size=\"14.00\" fill=\"#000000\">entropy = 0.0</text>\n<text text-anchor=\"middle\" x=\"808\" y=\"-235.8\" font-family=\"Helvetica,sans-Serif\" font-size=\"14.00\" fill=\"#000000\">samples = 2.4%</text>\n<text text-anchor=\"middle\" x=\"808\" y=\"-220.8\" font-family=\"Helvetica,sans-Serif\" font-size=\"14.00\" fill=\"#000000\">value = [0.0, 0.0, 1.0]</text>\n</g>\n<!-- 11&#45;&gt;12 -->\n<g id=\"edge12\" class=\"edge\">\n<title>11&#45;&gt;12</title>\n<path fill=\"none\" stroke=\"#000000\" d=\"M647.6457,-217.757C671.4634,-220.9866 697.9356,-224.576 722.3948,-227.8925\"/>\n<polygon fill=\"#000000\" stroke=\"#000000\" points=\"721.9982,-231.3707 732.3778,-229.2461 722.9388,-224.4342 721.9982,-231.3707\"/>\n</g>\n<!-- 13 -->\n<g id=\"node14\" class=\"node\">\n<title>13</title>\n<polygon fill=\"#39e581\" stroke=\"#000000\" points=\"883.5,-195 732.5,-195 732.5,-142 883.5,-142 883.5,-195\"/>\n<text text-anchor=\"middle\" x=\"808\" y=\"-179.8\" font-family=\"Helvetica,sans-Serif\" font-size=\"14.00\" fill=\"#000000\">entropy = 0.0</text>\n<text text-anchor=\"middle\" x=\"808\" y=\"-164.8\" font-family=\"Helvetica,sans-Serif\" font-size=\"14.00\" fill=\"#000000\">samples = 1.6%</text>\n<text text-anchor=\"middle\" x=\"808\" y=\"-149.8\" font-family=\"Helvetica,sans-Serif\" font-size=\"14.00\" fill=\"#000000\">value = [0.0, 1.0, 0.0]</text>\n</g>\n<!-- 11&#45;&gt;13 -->\n<g id=\"edge13\" class=\"edge\">\n<title>11&#45;&gt;13</title>\n<path fill=\"none\" stroke=\"#000000\" d=\"M647.6457,-194.9992C671.4634,-191.0632 697.9356,-186.6886 722.3948,-182.6466\"/>\n<polygon fill=\"#000000\" stroke=\"#000000\" points=\"723.0823,-186.0806 732.3778,-180.9969 721.9409,-179.1742 723.0823,-186.0806\"/>\n</g>\n<!-- 15 -->\n<g id=\"node16\" class=\"node\">\n<title>15</title>\n<polygon fill=\"#e58139\" stroke=\"#000000\" points=\"883.5,-124 732.5,-124 732.5,-71 883.5,-71 883.5,-124\"/>\n<text text-anchor=\"middle\" x=\"808\" y=\"-108.8\" font-family=\"Helvetica,sans-Serif\" font-size=\"14.00\" fill=\"#000000\">entropy = 0.0</text>\n<text text-anchor=\"middle\" x=\"808\" y=\"-93.8\" font-family=\"Helvetica,sans-Serif\" font-size=\"14.00\" fill=\"#000000\">samples = 37.1%</text>\n<text text-anchor=\"middle\" x=\"808\" y=\"-78.8\" font-family=\"Helvetica,sans-Serif\" font-size=\"14.00\" fill=\"#000000\">value = [1.0, 0.0, 0.0]</text>\n</g>\n<!-- 14&#45;&gt;15 -->\n<g id=\"edge15\" class=\"edge\">\n<title>14&#45;&gt;15</title>\n<path fill=\"none\" stroke=\"#000000\" d=\"M664.2577,-97.5C683.3254,-97.5 703.3359,-97.5 722.1635,-97.5\"/>\n<polygon fill=\"#000000\" stroke=\"#000000\" points=\"722.188,-101.0001 732.1879,-97.5 722.1879,-94.0001 722.188,-101.0001\"/>\n</g>\n<!-- 16 -->\n<g id=\"node17\" class=\"node\">\n<title>16</title>\n<polygon fill=\"#39e581\" stroke=\"#000000\" points=\"883.5,-53 732.5,-53 732.5,0 883.5,0 883.5,-53\"/>\n<text text-anchor=\"middle\" x=\"808\" y=\"-37.8\" font-family=\"Helvetica,sans-Serif\" font-size=\"14.00\" fill=\"#000000\">entropy = 0.0</text>\n<text text-anchor=\"middle\" x=\"808\" y=\"-22.8\" font-family=\"Helvetica,sans-Serif\" font-size=\"14.00\" fill=\"#000000\">samples = 0.8%</text>\n<text text-anchor=\"middle\" x=\"808\" y=\"-7.8\" font-family=\"Helvetica,sans-Serif\" font-size=\"14.00\" fill=\"#000000\">value = [0.0, 1.0, 0.0]</text>\n</g>\n<!-- 14&#45;&gt;16 -->\n<g id=\"edge16\" class=\"edge\">\n<title>14&#45;&gt;16</title>\n<path fill=\"none\" stroke=\"#000000\" d=\"M664.2577,-69.7445C683.4133,-63.9816 703.5203,-57.9324 722.4238,-52.2454\"/>\n<polygon fill=\"#000000\" stroke=\"#000000\" points=\"723.6202,-55.5405 732.1879,-49.3079 721.6035,-48.8373 723.6202,-55.5405\"/>\n</g>\n</g>\n</svg>\n"
          },
          "metadata": {},
          "execution_count": 27
        }
      ]
    },
    {
      "cell_type": "markdown",
      "source": [
        "# Desempeño del modelo\n",
        "Comparativa de desempeño del modelo con los datos de entrenamiento y los de prueba/validación"
      ],
      "metadata": {
        "id": "J3pz4xxOJ39K"
      }
    },
    {
      "cell_type": "code",
      "source": [
        "from sklearn.metrics import r2_score, mean_squared_error"
      ],
      "metadata": {
        "id": "rh2mPa0qPLLb"
      },
      "execution_count": 28,
      "outputs": []
    },
    {
      "cell_type": "code",
      "source": [
        "# Prediccion para el conjunto de datos de entrenamiento\n",
        "train_prediction = model.predict(x_train)\n",
        "\n",
        "# Prediccion para el conjunto de datos de prueba / validación\n",
        "test_prediction = model.predict(x_test)\n",
        "\n",
        "\n",
        "# Evaluación del modelo con los datos de entrenamiento\n",
        "train_score = model.score(x_train, y_train)\n",
        "\n",
        "# Evaluación del modelo con los datos de entrenamiento\n",
        "test_score = model.score(x_test, y_test)\n",
        "\n",
        "print(\"Presición Modelo Datos de Entrenamiento:\", train_score)\n",
        "print(\"Presición Modelo Datos de Prueba:\", test_score)"
      ],
      "metadata": {
        "colab": {
          "base_uri": "https://localhost:8080/"
        },
        "id": "Io2VXx4lJ1UF",
        "outputId": "da9cb43b-ed38-42d3-e1ca-7bb7f23307d6"
      },
      "execution_count": 29,
      "outputs": [
        {
          "output_type": "stream",
          "name": "stdout",
          "text": [
            "Presición Modelo Datos de Entrenamiento: 1.0\n",
            "Presición Modelo Datos de Prueba: 0.9814814814814815\n"
          ]
        }
      ]
    },
    {
      "cell_type": "markdown",
      "source": [
        "# Visualización: Salida del Modelo"
      ],
      "metadata": {
        "id": "OVvNjh0LT_gV"
      }
    },
    {
      "cell_type": "code",
      "source": [
        "# Predicción de todos los datos\n",
        "y_pred = model.predict(x)\n",
        "\n",
        "# Comparación primeros 10 datos\n",
        "comp_table = pd.DataFrame({'Clase Real': data['Class'], 'Prediccion': y_pred, columns[1]: data[columns[1]], columns[2]: data[columns[2]], columns[3]: data[columns[3]], columns[4]: data[columns[4]], columns[5]: data[columns[5]], columns[6]: data[columns[6]], columns[7]: data[columns[7]], columns[8]: data[columns[8]], columns[9]: data[columns[9]], columns[10]: data[columns[10]], columns[11]: data[columns[11]], columns[12]: data[columns[12]], columns[13]: data[columns[13]]})\n",
        "comp_table.head(10)"
      ],
      "metadata": {
        "colab": {
          "base_uri": "https://localhost:8080/",
          "height": 462
        },
        "id": "2WQqLj3jsnDu",
        "outputId": "0218f6e0-c26e-44a3-87db-b91e8c654069"
      },
      "execution_count": 31,
      "outputs": [
        {
          "output_type": "execute_result",
          "data": {
            "text/plain": [
              "   Clase Real  Prediccion  Alcohol  Malic Acid   Ash  Alcalinity of Ash  \\\n",
              "0           1           1    14.23        1.71  2.43               15.6   \n",
              "1           1           1    13.20        1.78  2.14               11.2   \n",
              "2           1           1    13.16        2.36  2.67               18.6   \n",
              "3           1           1    14.37        1.95  2.50               16.8   \n",
              "4           1           1    13.24        2.59  2.87               21.0   \n",
              "5           1           1    14.20        1.76  2.45               15.2   \n",
              "6           1           1    14.39        1.87  2.45               14.6   \n",
              "7           1           1    14.06        2.15  2.61               17.6   \n",
              "8           1           1    14.83        1.64  2.17               14.0   \n",
              "9           1           1    13.86        1.35  2.27               16.0   \n",
              "\n",
              "   Magnesium  Total Phenols  Flavanoids  Nonflavanoid phenols  \\\n",
              "0        127           2.80        3.06                  0.28   \n",
              "1        100           2.65        2.76                  0.26   \n",
              "2        101           2.80        3.24                  0.30   \n",
              "3        113           3.85        3.49                  0.24   \n",
              "4        118           2.80        2.69                  0.39   \n",
              "5        112           3.27        3.39                  0.34   \n",
              "6         96           2.50        2.52                  0.30   \n",
              "7        121           2.60        2.51                  0.31   \n",
              "8         97           2.80        2.98                  0.29   \n",
              "9         98           2.98        3.15                  0.22   \n",
              "\n",
              "   Proanthocyanins  Color intensity   Hue  OD280/OD315 of diluted wines  \\\n",
              "0             2.29             5.64  1.04                          3.92   \n",
              "1             1.28             4.38  1.05                          3.40   \n",
              "2             2.81             5.68  1.03                          3.17   \n",
              "3             2.18             7.80  0.86                          3.45   \n",
              "4             1.82             4.32  1.04                          2.93   \n",
              "5             1.97             6.75  1.05                          2.85   \n",
              "6             1.98             5.25  1.02                          3.58   \n",
              "7             1.25             5.05  1.06                          3.58   \n",
              "8             1.98             5.20  1.08                          2.85   \n",
              "9             1.85             7.22  1.01                          3.55   \n",
              "\n",
              "   Proline  \n",
              "0     1065  \n",
              "1     1050  \n",
              "2     1185  \n",
              "3     1480  \n",
              "4      735  \n",
              "5     1450  \n",
              "6     1290  \n",
              "7     1295  \n",
              "8     1045  \n",
              "9     1045  "
            ],
            "text/html": [
              "\n",
              "  <div id=\"df-ca78466a-986c-4ce1-b48c-a7d4708287a9\">\n",
              "    <div class=\"colab-df-container\">\n",
              "      <div>\n",
              "<style scoped>\n",
              "    .dataframe tbody tr th:only-of-type {\n",
              "        vertical-align: middle;\n",
              "    }\n",
              "\n",
              "    .dataframe tbody tr th {\n",
              "        vertical-align: top;\n",
              "    }\n",
              "\n",
              "    .dataframe thead th {\n",
              "        text-align: right;\n",
              "    }\n",
              "</style>\n",
              "<table border=\"1\" class=\"dataframe\">\n",
              "  <thead>\n",
              "    <tr style=\"text-align: right;\">\n",
              "      <th></th>\n",
              "      <th>Clase Real</th>\n",
              "      <th>Prediccion</th>\n",
              "      <th>Alcohol</th>\n",
              "      <th>Malic Acid</th>\n",
              "      <th>Ash</th>\n",
              "      <th>Alcalinity of Ash</th>\n",
              "      <th>Magnesium</th>\n",
              "      <th>Total Phenols</th>\n",
              "      <th>Flavanoids</th>\n",
              "      <th>Nonflavanoid phenols</th>\n",
              "      <th>Proanthocyanins</th>\n",
              "      <th>Color intensity</th>\n",
              "      <th>Hue</th>\n",
              "      <th>OD280/OD315 of diluted wines</th>\n",
              "      <th>Proline</th>\n",
              "    </tr>\n",
              "  </thead>\n",
              "  <tbody>\n",
              "    <tr>\n",
              "      <th>0</th>\n",
              "      <td>1</td>\n",
              "      <td>1</td>\n",
              "      <td>14.23</td>\n",
              "      <td>1.71</td>\n",
              "      <td>2.43</td>\n",
              "      <td>15.6</td>\n",
              "      <td>127</td>\n",
              "      <td>2.80</td>\n",
              "      <td>3.06</td>\n",
              "      <td>0.28</td>\n",
              "      <td>2.29</td>\n",
              "      <td>5.64</td>\n",
              "      <td>1.04</td>\n",
              "      <td>3.92</td>\n",
              "      <td>1065</td>\n",
              "    </tr>\n",
              "    <tr>\n",
              "      <th>1</th>\n",
              "      <td>1</td>\n",
              "      <td>1</td>\n",
              "      <td>13.20</td>\n",
              "      <td>1.78</td>\n",
              "      <td>2.14</td>\n",
              "      <td>11.2</td>\n",
              "      <td>100</td>\n",
              "      <td>2.65</td>\n",
              "      <td>2.76</td>\n",
              "      <td>0.26</td>\n",
              "      <td>1.28</td>\n",
              "      <td>4.38</td>\n",
              "      <td>1.05</td>\n",
              "      <td>3.40</td>\n",
              "      <td>1050</td>\n",
              "    </tr>\n",
              "    <tr>\n",
              "      <th>2</th>\n",
              "      <td>1</td>\n",
              "      <td>1</td>\n",
              "      <td>13.16</td>\n",
              "      <td>2.36</td>\n",
              "      <td>2.67</td>\n",
              "      <td>18.6</td>\n",
              "      <td>101</td>\n",
              "      <td>2.80</td>\n",
              "      <td>3.24</td>\n",
              "      <td>0.30</td>\n",
              "      <td>2.81</td>\n",
              "      <td>5.68</td>\n",
              "      <td>1.03</td>\n",
              "      <td>3.17</td>\n",
              "      <td>1185</td>\n",
              "    </tr>\n",
              "    <tr>\n",
              "      <th>3</th>\n",
              "      <td>1</td>\n",
              "      <td>1</td>\n",
              "      <td>14.37</td>\n",
              "      <td>1.95</td>\n",
              "      <td>2.50</td>\n",
              "      <td>16.8</td>\n",
              "      <td>113</td>\n",
              "      <td>3.85</td>\n",
              "      <td>3.49</td>\n",
              "      <td>0.24</td>\n",
              "      <td>2.18</td>\n",
              "      <td>7.80</td>\n",
              "      <td>0.86</td>\n",
              "      <td>3.45</td>\n",
              "      <td>1480</td>\n",
              "    </tr>\n",
              "    <tr>\n",
              "      <th>4</th>\n",
              "      <td>1</td>\n",
              "      <td>1</td>\n",
              "      <td>13.24</td>\n",
              "      <td>2.59</td>\n",
              "      <td>2.87</td>\n",
              "      <td>21.0</td>\n",
              "      <td>118</td>\n",
              "      <td>2.80</td>\n",
              "      <td>2.69</td>\n",
              "      <td>0.39</td>\n",
              "      <td>1.82</td>\n",
              "      <td>4.32</td>\n",
              "      <td>1.04</td>\n",
              "      <td>2.93</td>\n",
              "      <td>735</td>\n",
              "    </tr>\n",
              "    <tr>\n",
              "      <th>5</th>\n",
              "      <td>1</td>\n",
              "      <td>1</td>\n",
              "      <td>14.20</td>\n",
              "      <td>1.76</td>\n",
              "      <td>2.45</td>\n",
              "      <td>15.2</td>\n",
              "      <td>112</td>\n",
              "      <td>3.27</td>\n",
              "      <td>3.39</td>\n",
              "      <td>0.34</td>\n",
              "      <td>1.97</td>\n",
              "      <td>6.75</td>\n",
              "      <td>1.05</td>\n",
              "      <td>2.85</td>\n",
              "      <td>1450</td>\n",
              "    </tr>\n",
              "    <tr>\n",
              "      <th>6</th>\n",
              "      <td>1</td>\n",
              "      <td>1</td>\n",
              "      <td>14.39</td>\n",
              "      <td>1.87</td>\n",
              "      <td>2.45</td>\n",
              "      <td>14.6</td>\n",
              "      <td>96</td>\n",
              "      <td>2.50</td>\n",
              "      <td>2.52</td>\n",
              "      <td>0.30</td>\n",
              "      <td>1.98</td>\n",
              "      <td>5.25</td>\n",
              "      <td>1.02</td>\n",
              "      <td>3.58</td>\n",
              "      <td>1290</td>\n",
              "    </tr>\n",
              "    <tr>\n",
              "      <th>7</th>\n",
              "      <td>1</td>\n",
              "      <td>1</td>\n",
              "      <td>14.06</td>\n",
              "      <td>2.15</td>\n",
              "      <td>2.61</td>\n",
              "      <td>17.6</td>\n",
              "      <td>121</td>\n",
              "      <td>2.60</td>\n",
              "      <td>2.51</td>\n",
              "      <td>0.31</td>\n",
              "      <td>1.25</td>\n",
              "      <td>5.05</td>\n",
              "      <td>1.06</td>\n",
              "      <td>3.58</td>\n",
              "      <td>1295</td>\n",
              "    </tr>\n",
              "    <tr>\n",
              "      <th>8</th>\n",
              "      <td>1</td>\n",
              "      <td>1</td>\n",
              "      <td>14.83</td>\n",
              "      <td>1.64</td>\n",
              "      <td>2.17</td>\n",
              "      <td>14.0</td>\n",
              "      <td>97</td>\n",
              "      <td>2.80</td>\n",
              "      <td>2.98</td>\n",
              "      <td>0.29</td>\n",
              "      <td>1.98</td>\n",
              "      <td>5.20</td>\n",
              "      <td>1.08</td>\n",
              "      <td>2.85</td>\n",
              "      <td>1045</td>\n",
              "    </tr>\n",
              "    <tr>\n",
              "      <th>9</th>\n",
              "      <td>1</td>\n",
              "      <td>1</td>\n",
              "      <td>13.86</td>\n",
              "      <td>1.35</td>\n",
              "      <td>2.27</td>\n",
              "      <td>16.0</td>\n",
              "      <td>98</td>\n",
              "      <td>2.98</td>\n",
              "      <td>3.15</td>\n",
              "      <td>0.22</td>\n",
              "      <td>1.85</td>\n",
              "      <td>7.22</td>\n",
              "      <td>1.01</td>\n",
              "      <td>3.55</td>\n",
              "      <td>1045</td>\n",
              "    </tr>\n",
              "  </tbody>\n",
              "</table>\n",
              "</div>\n",
              "      <button class=\"colab-df-convert\" onclick=\"convertToInteractive('df-ca78466a-986c-4ce1-b48c-a7d4708287a9')\"\n",
              "              title=\"Convert this dataframe to an interactive table.\"\n",
              "              style=\"display:none;\">\n",
              "        \n",
              "  <svg xmlns=\"http://www.w3.org/2000/svg\" height=\"24px\"viewBox=\"0 0 24 24\"\n",
              "       width=\"24px\">\n",
              "    <path d=\"M0 0h24v24H0V0z\" fill=\"none\"/>\n",
              "    <path d=\"M18.56 5.44l.94 2.06.94-2.06 2.06-.94-2.06-.94-.94-2.06-.94 2.06-2.06.94zm-11 1L8.5 8.5l.94-2.06 2.06-.94-2.06-.94L8.5 2.5l-.94 2.06-2.06.94zm10 10l.94 2.06.94-2.06 2.06-.94-2.06-.94-.94-2.06-.94 2.06-2.06.94z\"/><path d=\"M17.41 7.96l-1.37-1.37c-.4-.4-.92-.59-1.43-.59-.52 0-1.04.2-1.43.59L10.3 9.45l-7.72 7.72c-.78.78-.78 2.05 0 2.83L4 21.41c.39.39.9.59 1.41.59.51 0 1.02-.2 1.41-.59l7.78-7.78 2.81-2.81c.8-.78.8-2.07 0-2.86zM5.41 20L4 18.59l7.72-7.72 1.47 1.35L5.41 20z\"/>\n",
              "  </svg>\n",
              "      </button>\n",
              "      \n",
              "  <style>\n",
              "    .colab-df-container {\n",
              "      display:flex;\n",
              "      flex-wrap:wrap;\n",
              "      gap: 12px;\n",
              "    }\n",
              "\n",
              "    .colab-df-convert {\n",
              "      background-color: #E8F0FE;\n",
              "      border: none;\n",
              "      border-radius: 50%;\n",
              "      cursor: pointer;\n",
              "      display: none;\n",
              "      fill: #1967D2;\n",
              "      height: 32px;\n",
              "      padding: 0 0 0 0;\n",
              "      width: 32px;\n",
              "    }\n",
              "\n",
              "    .colab-df-convert:hover {\n",
              "      background-color: #E2EBFA;\n",
              "      box-shadow: 0px 1px 2px rgba(60, 64, 67, 0.3), 0px 1px 3px 1px rgba(60, 64, 67, 0.15);\n",
              "      fill: #174EA6;\n",
              "    }\n",
              "\n",
              "    [theme=dark] .colab-df-convert {\n",
              "      background-color: #3B4455;\n",
              "      fill: #D2E3FC;\n",
              "    }\n",
              "\n",
              "    [theme=dark] .colab-df-convert:hover {\n",
              "      background-color: #434B5C;\n",
              "      box-shadow: 0px 1px 3px 1px rgba(0, 0, 0, 0.15);\n",
              "      filter: drop-shadow(0px 1px 2px rgba(0, 0, 0, 0.3));\n",
              "      fill: #FFFFFF;\n",
              "    }\n",
              "  </style>\n",
              "\n",
              "      <script>\n",
              "        const buttonEl =\n",
              "          document.querySelector('#df-ca78466a-986c-4ce1-b48c-a7d4708287a9 button.colab-df-convert');\n",
              "        buttonEl.style.display =\n",
              "          google.colab.kernel.accessAllowed ? 'block' : 'none';\n",
              "\n",
              "        async function convertToInteractive(key) {\n",
              "          const element = document.querySelector('#df-ca78466a-986c-4ce1-b48c-a7d4708287a9');\n",
              "          const dataTable =\n",
              "            await google.colab.kernel.invokeFunction('convertToInteractive',\n",
              "                                                     [key], {});\n",
              "          if (!dataTable) return;\n",
              "\n",
              "          const docLinkHtml = 'Like what you see? Visit the ' +\n",
              "            '<a target=\"_blank\" href=https://colab.research.google.com/notebooks/data_table.ipynb>data table notebook</a>'\n",
              "            + ' to learn more about interactive tables.';\n",
              "          element.innerHTML = '';\n",
              "          dataTable['output_type'] = 'display_data';\n",
              "          await google.colab.output.renderOutput(dataTable, element);\n",
              "          const docLink = document.createElement('div');\n",
              "          docLink.innerHTML = docLinkHtml;\n",
              "          element.appendChild(docLink);\n",
              "        }\n",
              "      </script>\n",
              "    </div>\n",
              "  </div>\n",
              "  "
            ]
          },
          "metadata": {},
          "execution_count": 31
        }
      ]
    }
  ]
}