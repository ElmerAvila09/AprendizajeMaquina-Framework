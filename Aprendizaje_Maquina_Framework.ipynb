{
  "nbformat": 4,
  "nbformat_minor": 0,
  "metadata": {
    "colab": {
      "provenance": [],
      "toc_visible": true,
      "collapsed_sections": [],
      "authorship_tag": "ABX9TyN2VR7bFXjf9IAdkSActUO8"
    },
    "kernelspec": {
      "name": "python3",
      "display_name": "Python 3"
    },
    "language_info": {
      "name": "python"
    }
  },
  "cells": [
    {
      "cell_type": "markdown",
      "source": [
        "# Importación de los Datos"
      ],
      "metadata": {
        "id": "d229UBYBy7Vx"
      }
    },
    {
      "cell_type": "code",
      "execution_count": null,
      "metadata": {
        "colab": {
          "base_uri": "https://localhost:8080/"
        },
        "id": "EaqPe8cmtJl-",
        "outputId": "93260bec-984b-4eba-e726-e573015bcff3"
      },
      "outputs": [
        {
          "output_type": "stream",
          "name": "stdout",
          "text": [
            "<class 'pandas.core.frame.DataFrame'>\n",
            "RangeIndex: 178 entries, 0 to 177\n",
            "Data columns (total 14 columns):\n",
            " #   Column                        Non-Null Count  Dtype  \n",
            "---  ------                        --------------  -----  \n",
            " 0   Class                         178 non-null    int64  \n",
            " 1   Alcohol                       178 non-null    float64\n",
            " 2   Malic Acid                    178 non-null    float64\n",
            " 3   Ash                           178 non-null    float64\n",
            " 4   Alcalinity of Ash             178 non-null    float64\n",
            " 5   Magnesium                     178 non-null    int64  \n",
            " 6   Total Phenols                 178 non-null    float64\n",
            " 7   Flavanoids                    178 non-null    float64\n",
            " 8   Nonflavanoid phenols          178 non-null    float64\n",
            " 9   Proanthocyanins               178 non-null    float64\n",
            " 10  Color intensity               178 non-null    float64\n",
            " 11  Hue                           178 non-null    float64\n",
            " 12  OD280/OD315 of diluted wines  178 non-null    float64\n",
            " 13  Proline                       178 non-null    int64  \n",
            "dtypes: float64(11), int64(3)\n",
            "memory usage: 19.6 KB\n",
            "None\n"
          ]
        }
      ],
      "source": [
        "import pandas as pd\n",
        "import numpy as np\n",
        "\n",
        "# Nombre de las columnas\n",
        "columns = [\"Class\", \"Alcohol\", \"Malic Acid\", \"Ash\", \"Alcalinity of Ash\", \"Magnesium\", \"Total Phenols\", \"Flavanoids\", \"Nonflavanoid phenols\", \"Proanthocyanins\", \"Color intensity\", \"Hue\", \"OD280/OD315 of diluted wines\", \"Proline\"]\n",
        "\n",
        "# Importacion\n",
        "data = pd.read_csv('wine.data', names = columns)\n",
        "print(data.info())"
      ]
    },
    {
      "cell_type": "markdown",
      "source": [
        "# Selección de los Datos\n",
        "El modelo se encargará de predecir la clase de vino a la que pertenece cada registro, por ello, nuestro atributo \"class\" será la variable dependiente.\n",
        "\n",
        "A continuación se realiza la division de variables, datos de entrenamiento y datos de prueba."
      ],
      "metadata": {
        "id": "s6G7Tf574NKl"
      }
    },
    {
      "cell_type": "code",
      "source": [
        "from sklearn.model_selection import train_test_split"
      ],
      "metadata": {
        "id": "cgVsJP1X4Ygp"
      },
      "execution_count": null,
      "outputs": []
    },
    {
      "cell_type": "code",
      "source": [
        "# Separacion variables independientes y dependiente\n",
        "x = data[columns[1:]]\n",
        "y = data[columns[0]]\n",
        "\n",
        "# Separación de los datos de entrenamiento y de prueba. (70% entrenamiento / 30% Prueba)\n",
        "x_train, x_test, y_train, y_test = train_test_split(x, y, train_size = 0.7)\n",
        "\n",
        "print('Total de datos:', len(data))\n",
        "print('No. de datos de entreamiento:', len(x_train))\n",
        "print('No. de datos para prediccion:', len(x_test))"
      ],
      "metadata": {
        "colab": {
          "base_uri": "https://localhost:8080/"
        },
        "id": "q1rmxDnA0gUJ",
        "outputId": "51347434-8a9b-4ae1-f53f-568561777dcd"
      },
      "execution_count": null,
      "outputs": [
        {
          "output_type": "stream",
          "name": "stdout",
          "text": [
            "Total de datos: 178\n",
            "No. de datos de entreamiento: 124\n",
            "No. de datos para prediccion: 54\n"
          ]
        }
      ]
    },
    {
      "cell_type": "markdown",
      "source": [
        "# Implementacion del Modelo\n",
        "\n",
        "##### Debido a que se busca asignar una clase a cada uno de los registros se necesita un modelo de clasificación, es por ello que se emplea el siguiente modelo:\n",
        "---\n",
        "### **Árbol de Decisión** / Métrica Calidad de Información: Entropía"
      ],
      "metadata": {
        "id": "s0awQOAL8Haj"
      }
    },
    {
      "cell_type": "code",
      "source": [
        "# Importacion del modelo\n",
        "from sklearn.ensemble import RandomForestClassifier\n",
        "from sklearn.tree import DecisionTreeClassifier, export_graphviz\n",
        "import graphviz"
      ],
      "metadata": {
        "id": "jZtDPvhSBRHR"
      },
      "execution_count": null,
      "outputs": []
    },
    {
      "cell_type": "code",
      "source": [
        "# Instanciación del modelo\n",
        "model = DecisionTreeClassifier(criterion = \"entropy\")\n",
        "\n",
        "# Entrenamiento del modelo\n",
        "model.fit(x_train, y_train)"
      ],
      "metadata": {
        "colab": {
          "base_uri": "https://localhost:8080/"
        },
        "id": "-s-AvJsRF52v",
        "outputId": "7226c818-c42a-4431-cdbb-62f57ecb26c0"
      },
      "execution_count": 71,
      "outputs": [
        {
          "output_type": "execute_result",
          "data": {
            "text/plain": [
              "DecisionTreeClassifier(criterion='entropy')"
            ]
          },
          "metadata": {},
          "execution_count": 71
        }
      ]
    },
    {
      "cell_type": "markdown",
      "source": [
        "### Visualicación del Modelo Obtenido:"
      ],
      "metadata": {
        "id": "ZY0uoSM-Lk3q"
      }
    },
    {
      "cell_type": "code",
      "source": [
        "treeData = export_graphviz(model, filled=True, proportion=True, rotate = True)\n",
        "graphviz.Source(treeData)"
      ],
      "metadata": {
        "id": "lPp7GPdKKRn7",
        "colab": {
          "base_uri": "https://localhost:8080/",
          "height": 628
        },
        "outputId": "89b479ce-f304-47e4-f26d-cd157d913957"
      },
      "execution_count": 73,
      "outputs": [
        {
          "output_type": "execute_result",
          "data": {
            "text/plain": [
              "<graphviz.files.Source at 0x7f61f353b3d0>"
            ],
            "image/svg+xml": "<?xml version=\"1.0\" encoding=\"UTF-8\" standalone=\"no\"?>\n<!DOCTYPE svg PUBLIC \"-//W3C//DTD SVG 1.1//EN\"\n \"http://www.w3.org/Graphics/SVG/1.1/DTD/svg11.dtd\">\n<!-- Generated by graphviz version 2.40.1 (20161225.0304)\n -->\n<!-- Title: Tree Pages: 1 -->\n<svg width=\"1047pt\" height=\"440pt\"\n viewBox=\"0.00 0.00 1047.00 440.00\" xmlns=\"http://www.w3.org/2000/svg\" xmlns:xlink=\"http://www.w3.org/1999/xlink\">\n<g id=\"graph0\" class=\"graph\" transform=\"scale(1 1) rotate(0) translate(4 436)\">\n<title>Tree</title>\n<polygon fill=\"#ffffff\" stroke=\"transparent\" points=\"-4,4 -4,-436 1043,-436 1043,4 -4,4\"/>\n<!-- 0 -->\n<g id=\"node1\" class=\"node\">\n<title>0</title>\n<polygon fill=\"#fffdfc\" stroke=\"#000000\" points=\"192,-316.5 0,-316.5 0,-248.5 192,-248.5 192,-316.5\"/>\n<text text-anchor=\"middle\" x=\"96\" y=\"-301.3\" font-family=\"Helvetica,sans-Serif\" font-size=\"14.00\" fill=\"#000000\">X[6] &lt;= 1.575</text>\n<text text-anchor=\"middle\" x=\"96\" y=\"-286.3\" font-family=\"Helvetica,sans-Serif\" font-size=\"14.00\" fill=\"#000000\">entropy = 1.561</text>\n<text text-anchor=\"middle\" x=\"96\" y=\"-271.3\" font-family=\"Helvetica,sans-Serif\" font-size=\"14.00\" fill=\"#000000\">samples = 100.0%</text>\n<text text-anchor=\"middle\" x=\"96\" y=\"-256.3\" font-family=\"Helvetica,sans-Serif\" font-size=\"14.00\" fill=\"#000000\">value = [0.379, 0.371, 0.25]</text>\n</g>\n<!-- 1 -->\n<g id=\"node2\" class=\"node\">\n<title>1</title>\n<polygon fill=\"#aa79ed\" stroke=\"#000000\" points=\"412,-360.5 228,-360.5 228,-292.5 412,-292.5 412,-360.5\"/>\n<text text-anchor=\"middle\" x=\"320\" y=\"-345.3\" font-family=\"Helvetica,sans-Serif\" font-size=\"14.00\" fill=\"#000000\">X[9] &lt;= 3.75</text>\n<text text-anchor=\"middle\" x=\"320\" y=\"-330.3\" font-family=\"Helvetica,sans-Serif\" font-size=\"14.00\" fill=\"#000000\">entropy = 0.801</text>\n<text text-anchor=\"middle\" x=\"320\" y=\"-315.3\" font-family=\"Helvetica,sans-Serif\" font-size=\"14.00\" fill=\"#000000\">samples = 33.1%</text>\n<text text-anchor=\"middle\" x=\"320\" y=\"-300.3\" font-family=\"Helvetica,sans-Serif\" font-size=\"14.00\" fill=\"#000000\">value = [0.0, 0.244, 0.756]</text>\n</g>\n<!-- 0&#45;&gt;1 -->\n<g id=\"edge1\" class=\"edge\">\n<title>0&#45;&gt;1</title>\n<path fill=\"none\" stroke=\"#000000\" d=\"M192.2961,-301.4153C200.7337,-303.0727 209.2925,-304.7539 217.776,-306.4203\"/>\n<polygon fill=\"#000000\" stroke=\"#000000\" points=\"217.2013,-309.8742 227.6884,-308.3674 218.5505,-303.0055 217.2013,-309.8742\"/>\n<text text-anchor=\"middle\" x=\"206.9349\" y=\"-318.6063\" font-family=\"Helvetica,sans-Serif\" font-size=\"14.00\" fill=\"#000000\">True</text>\n</g>\n<!-- 6 -->\n<g id=\"node7\" class=\"node\">\n<title>6</title>\n<polygon fill=\"#f9e2d1\" stroke=\"#000000\" points=\"412,-245.5 228,-245.5 228,-177.5 412,-177.5 412,-245.5\"/>\n<text text-anchor=\"middle\" x=\"320\" y=\"-230.3\" font-family=\"Helvetica,sans-Serif\" font-size=\"14.00\" fill=\"#000000\">X[12] &lt;= 724.5</text>\n<text text-anchor=\"middle\" x=\"320\" y=\"-215.3\" font-family=\"Helvetica,sans-Serif\" font-size=\"14.00\" fill=\"#000000\">entropy = 0.987</text>\n<text text-anchor=\"middle\" x=\"320\" y=\"-200.3\" font-family=\"Helvetica,sans-Serif\" font-size=\"14.00\" fill=\"#000000\">samples = 66.9%</text>\n<text text-anchor=\"middle\" x=\"320\" y=\"-185.3\" font-family=\"Helvetica,sans-Serif\" font-size=\"14.00\" fill=\"#000000\">value = [0.566, 0.434, 0.0]</text>\n</g>\n<!-- 0&#45;&gt;6 -->\n<g id=\"edge6\" class=\"edge\">\n<title>0&#45;&gt;6</title>\n<path fill=\"none\" stroke=\"#000000\" d=\"M192.2961,-251.9776C200.8254,-249.2741 209.4786,-246.5313 218.0526,-243.8137\"/>\n<polygon fill=\"#000000\" stroke=\"#000000\" points=\"219.2133,-247.1175 227.6884,-240.7595 217.0982,-240.4446 219.2133,-247.1175\"/>\n<text text-anchor=\"middle\" x=\"205.4957\" y=\"-225.5494\" font-family=\"Helvetica,sans-Serif\" font-size=\"14.00\" fill=\"#000000\">False</text>\n</g>\n<!-- 2 -->\n<g id=\"node3\" class=\"node\">\n<title>2</title>\n<polygon fill=\"#39e581\" stroke=\"#000000\" points=\"615.5,-432 464.5,-432 464.5,-379 615.5,-379 615.5,-432\"/>\n<text text-anchor=\"middle\" x=\"540\" y=\"-416.8\" font-family=\"Helvetica,sans-Serif\" font-size=\"14.00\" fill=\"#000000\">entropy = 0.0</text>\n<text text-anchor=\"middle\" x=\"540\" y=\"-401.8\" font-family=\"Helvetica,sans-Serif\" font-size=\"14.00\" fill=\"#000000\">samples = 7.3%</text>\n<text text-anchor=\"middle\" x=\"540\" y=\"-386.8\" font-family=\"Helvetica,sans-Serif\" font-size=\"14.00\" fill=\"#000000\">value = [0.0, 1.0, 0.0]</text>\n</g>\n<!-- 1&#45;&gt;2 -->\n<g id=\"edge2\" class=\"edge\">\n<title>1&#45;&gt;2</title>\n<path fill=\"none\" stroke=\"#000000\" d=\"M412.0251,-359.5454C426.8031,-364.852 442.0259,-370.3184 456.5875,-375.5473\"/>\n<polygon fill=\"#000000\" stroke=\"#000000\" points=\"455.4553,-378.8595 466.0498,-378.9452 457.8211,-372.2714 455.4553,-378.8595\"/>\n</g>\n<!-- 3 -->\n<g id=\"node4\" class=\"node\">\n<title>3</title>\n<polygon fill=\"#853fe6\" stroke=\"#000000\" points=\"632,-360.5 448,-360.5 448,-292.5 632,-292.5 632,-360.5\"/>\n<text text-anchor=\"middle\" x=\"540\" y=\"-345.3\" font-family=\"Helvetica,sans-Serif\" font-size=\"14.00\" fill=\"#000000\">X[10] &lt;= 0.97</text>\n<text text-anchor=\"middle\" x=\"540\" y=\"-330.3\" font-family=\"Helvetica,sans-Serif\" font-size=\"14.00\" fill=\"#000000\">entropy = 0.201</text>\n<text text-anchor=\"middle\" x=\"540\" y=\"-315.3\" font-family=\"Helvetica,sans-Serif\" font-size=\"14.00\" fill=\"#000000\">samples = 25.8%</text>\n<text text-anchor=\"middle\" x=\"540\" y=\"-300.3\" font-family=\"Helvetica,sans-Serif\" font-size=\"14.00\" fill=\"#000000\">value = [0.0, 0.031, 0.969]</text>\n</g>\n<!-- 1&#45;&gt;3 -->\n<g id=\"edge3\" class=\"edge\">\n<title>1&#45;&gt;3</title>\n<path fill=\"none\" stroke=\"#000000\" d=\"M412.0251,-326.5C420.5727,-326.5 429.2691,-326.5 437.9003,-326.5\"/>\n<polygon fill=\"#000000\" stroke=\"#000000\" points=\"437.9899,-330.0001 447.9898,-326.5 437.9898,-323.0001 437.9899,-330.0001\"/>\n</g>\n<!-- 4 -->\n<g id=\"node5\" class=\"node\">\n<title>4</title>\n<polygon fill=\"#8139e5\" stroke=\"#000000\" points=\"835.5,-424 684.5,-424 684.5,-371 835.5,-371 835.5,-424\"/>\n<text text-anchor=\"middle\" x=\"760\" y=\"-408.8\" font-family=\"Helvetica,sans-Serif\" font-size=\"14.00\" fill=\"#000000\">entropy = 0.0</text>\n<text text-anchor=\"middle\" x=\"760\" y=\"-393.8\" font-family=\"Helvetica,sans-Serif\" font-size=\"14.00\" fill=\"#000000\">samples = 25.0%</text>\n<text text-anchor=\"middle\" x=\"760\" y=\"-378.8\" font-family=\"Helvetica,sans-Serif\" font-size=\"14.00\" fill=\"#000000\">value = [0.0, 0.0, 1.0]</text>\n</g>\n<!-- 3&#45;&gt;4 -->\n<g id=\"edge4\" class=\"edge\">\n<title>3&#45;&gt;4</title>\n<path fill=\"none\" stroke=\"#000000\" d=\"M632.0251,-356.199C646.184,-360.7685 660.7513,-365.4697 674.7541,-369.9888\"/>\n<polygon fill=\"#000000\" stroke=\"#000000\" points=\"673.7546,-373.3439 684.3462,-373.0845 675.9045,-366.6823 673.7546,-373.3439\"/>\n</g>\n<!-- 5 -->\n<g id=\"node6\" class=\"node\">\n<title>5</title>\n<polygon fill=\"#39e581\" stroke=\"#000000\" points=\"835.5,-353 684.5,-353 684.5,-300 835.5,-300 835.5,-353\"/>\n<text text-anchor=\"middle\" x=\"760\" y=\"-337.8\" font-family=\"Helvetica,sans-Serif\" font-size=\"14.00\" fill=\"#000000\">entropy = 0.0</text>\n<text text-anchor=\"middle\" x=\"760\" y=\"-322.8\" font-family=\"Helvetica,sans-Serif\" font-size=\"14.00\" fill=\"#000000\">samples = 0.8%</text>\n<text text-anchor=\"middle\" x=\"760\" y=\"-307.8\" font-family=\"Helvetica,sans-Serif\" font-size=\"14.00\" fill=\"#000000\">value = [0.0, 1.0, 0.0]</text>\n</g>\n<!-- 3&#45;&gt;5 -->\n<g id=\"edge5\" class=\"edge\">\n<title>3&#45;&gt;5</title>\n<path fill=\"none\" stroke=\"#000000\" d=\"M632.0251,-326.5C645.9117,-326.5 660.1911,-326.5 673.9456,-326.5\"/>\n<polygon fill=\"#000000\" stroke=\"#000000\" points=\"674.3462,-330.0001 684.3462,-326.5 674.3462,-323.0001 674.3462,-330.0001\"/>\n</g>\n<!-- 7 -->\n<g id=\"node8\" class=\"node\">\n<title>7</title>\n<polygon fill=\"#3fe685\" stroke=\"#000000\" points=\"632,-245.5 448,-245.5 448,-177.5 632,-177.5 632,-245.5\"/>\n<text text-anchor=\"middle\" x=\"540\" y=\"-230.3\" font-family=\"Helvetica,sans-Serif\" font-size=\"14.00\" fill=\"#000000\">X[4] &lt;= 102.0</text>\n<text text-anchor=\"middle\" x=\"540\" y=\"-215.3\" font-family=\"Helvetica,sans-Serif\" font-size=\"14.00\" fill=\"#000000\">entropy = 0.187</text>\n<text text-anchor=\"middle\" x=\"540\" y=\"-200.3\" font-family=\"Helvetica,sans-Serif\" font-size=\"14.00\" fill=\"#000000\">samples = 28.2%</text>\n<text text-anchor=\"middle\" x=\"540\" y=\"-185.3\" font-family=\"Helvetica,sans-Serif\" font-size=\"14.00\" fill=\"#000000\">value = [0.029, 0.971, 0.0]</text>\n</g>\n<!-- 6&#45;&gt;7 -->\n<g id=\"edge7\" class=\"edge\">\n<title>6&#45;&gt;7</title>\n<path fill=\"none\" stroke=\"#000000\" d=\"M412.0251,-211.5C420.5727,-211.5 429.2691,-211.5 437.9003,-211.5\"/>\n<polygon fill=\"#000000\" stroke=\"#000000\" points=\"437.9899,-215.0001 447.9898,-211.5 437.9898,-208.0001 437.9899,-215.0001\"/>\n</g>\n<!-- 12 -->\n<g id=\"node13\" class=\"node\">\n<title>12</title>\n<polygon fill=\"#e68642\" stroke=\"#000000\" points=\"632,-131.5 448,-131.5 448,-63.5 632,-63.5 632,-131.5\"/>\n<text text-anchor=\"middle\" x=\"540\" y=\"-116.3\" font-family=\"Helvetica,sans-Serif\" font-size=\"14.00\" fill=\"#000000\">X[9] &lt;= 3.435</text>\n<text text-anchor=\"middle\" x=\"540\" y=\"-101.3\" font-family=\"Helvetica,sans-Serif\" font-size=\"14.00\" fill=\"#000000\">entropy = 0.25</text>\n<text text-anchor=\"middle\" x=\"540\" y=\"-86.3\" font-family=\"Helvetica,sans-Serif\" font-size=\"14.00\" fill=\"#000000\">samples = 38.7%</text>\n<text text-anchor=\"middle\" x=\"540\" y=\"-71.3\" font-family=\"Helvetica,sans-Serif\" font-size=\"14.00\" fill=\"#000000\">value = [0.958, 0.042, 0.0]</text>\n</g>\n<!-- 6&#45;&gt;12 -->\n<g id=\"edge12\" class=\"edge\">\n<title>6&#45;&gt;12</title>\n<path fill=\"none\" stroke=\"#000000\" d=\"M385.7093,-177.4507C410.7398,-164.4803 439.4435,-149.6065 465.2521,-136.233\"/>\n<polygon fill=\"#000000\" stroke=\"#000000\" points=\"466.981,-139.2792 474.2494,-131.5707 463.7604,-133.064 466.981,-139.2792\"/>\n</g>\n<!-- 8 -->\n<g id=\"node9\" class=\"node\">\n<title>8</title>\n<polygon fill=\"#39e581\" stroke=\"#000000\" points=\"835.5,-282 684.5,-282 684.5,-229 835.5,-229 835.5,-282\"/>\n<text text-anchor=\"middle\" x=\"760\" y=\"-266.8\" font-family=\"Helvetica,sans-Serif\" font-size=\"14.00\" fill=\"#000000\">entropy = 0.0</text>\n<text text-anchor=\"middle\" x=\"760\" y=\"-251.8\" font-family=\"Helvetica,sans-Serif\" font-size=\"14.00\" fill=\"#000000\">samples = 25.8%</text>\n<text text-anchor=\"middle\" x=\"760\" y=\"-236.8\" font-family=\"Helvetica,sans-Serif\" font-size=\"14.00\" fill=\"#000000\">value = [0.0, 1.0, 0.0]</text>\n</g>\n<!-- 7&#45;&gt;8 -->\n<g id=\"edge8\" class=\"edge\">\n<title>7&#45;&gt;8</title>\n<path fill=\"none\" stroke=\"#000000\" d=\"M632.0251,-229.905C646.0478,-232.7096 660.4712,-235.5942 674.35,-238.37\"/>\n<polygon fill=\"#000000\" stroke=\"#000000\" points=\"673.854,-241.84 684.3462,-240.3692 675.2268,-234.976 673.854,-241.84\"/>\n</g>\n<!-- 9 -->\n<g id=\"node10\" class=\"node\">\n<title>9</title>\n<polygon fill=\"#9cf2c0\" stroke=\"#000000\" points=\"852,-210.5 668,-210.5 668,-142.5 852,-142.5 852,-210.5\"/>\n<text text-anchor=\"middle\" x=\"760\" y=\"-195.3\" font-family=\"Helvetica,sans-Serif\" font-size=\"14.00\" fill=\"#000000\">X[4] &lt;= 103.5</text>\n<text text-anchor=\"middle\" x=\"760\" y=\"-180.3\" font-family=\"Helvetica,sans-Serif\" font-size=\"14.00\" fill=\"#000000\">entropy = 0.918</text>\n<text text-anchor=\"middle\" x=\"760\" y=\"-165.3\" font-family=\"Helvetica,sans-Serif\" font-size=\"14.00\" fill=\"#000000\">samples = 2.4%</text>\n<text text-anchor=\"middle\" x=\"760\" y=\"-150.3\" font-family=\"Helvetica,sans-Serif\" font-size=\"14.00\" fill=\"#000000\">value = [0.333, 0.667, 0.0]</text>\n</g>\n<!-- 7&#45;&gt;9 -->\n<g id=\"edge9\" class=\"edge\">\n<title>7&#45;&gt;9</title>\n<path fill=\"none\" stroke=\"#000000\" d=\"M632.0251,-196.8596C640.5727,-195.4998 649.2691,-194.1163 657.9003,-192.7431\"/>\n<polygon fill=\"#000000\" stroke=\"#000000\" points=\"658.664,-196.1657 667.9898,-191.138 657.5641,-189.2527 658.664,-196.1657\"/>\n</g>\n<!-- 10 -->\n<g id=\"node11\" class=\"node\">\n<title>10</title>\n<polygon fill=\"#e58139\" stroke=\"#000000\" points=\"1039,-238 888,-238 888,-185 1039,-185 1039,-238\"/>\n<text text-anchor=\"middle\" x=\"963.5\" y=\"-222.8\" font-family=\"Helvetica,sans-Serif\" font-size=\"14.00\" fill=\"#000000\">entropy = 0.0</text>\n<text text-anchor=\"middle\" x=\"963.5\" y=\"-207.8\" font-family=\"Helvetica,sans-Serif\" font-size=\"14.00\" fill=\"#000000\">samples = 0.8%</text>\n<text text-anchor=\"middle\" x=\"963.5\" y=\"-192.8\" font-family=\"Helvetica,sans-Serif\" font-size=\"14.00\" fill=\"#000000\">value = [1.0, 0.0, 0.0]</text>\n</g>\n<!-- 9&#45;&gt;10 -->\n<g id=\"edge10\" class=\"edge\">\n<title>9&#45;&gt;10</title>\n<path fill=\"none\" stroke=\"#000000\" d=\"M852.2234,-192.3615C860.7646,-193.8305 869.3961,-195.3151 877.8744,-196.7732\"/>\n<polygon fill=\"#000000\" stroke=\"#000000\" points=\"877.2936,-200.2247 887.7422,-198.4704 878.4802,-193.3259 877.2936,-200.2247\"/>\n</g>\n<!-- 11 -->\n<g id=\"node12\" class=\"node\">\n<title>11</title>\n<polygon fill=\"#39e581\" stroke=\"#000000\" points=\"1039,-167 888,-167 888,-114 1039,-114 1039,-167\"/>\n<text text-anchor=\"middle\" x=\"963.5\" y=\"-151.8\" font-family=\"Helvetica,sans-Serif\" font-size=\"14.00\" fill=\"#000000\">entropy = 0.0</text>\n<text text-anchor=\"middle\" x=\"963.5\" y=\"-136.8\" font-family=\"Helvetica,sans-Serif\" font-size=\"14.00\" fill=\"#000000\">samples = 1.6%</text>\n<text text-anchor=\"middle\" x=\"963.5\" y=\"-121.8\" font-family=\"Helvetica,sans-Serif\" font-size=\"14.00\" fill=\"#000000\">value = [0.0, 1.0, 0.0]</text>\n</g>\n<!-- 9&#45;&gt;11 -->\n<g id=\"edge11\" class=\"edge\">\n<title>9&#45;&gt;11</title>\n<path fill=\"none\" stroke=\"#000000\" d=\"M852.2234,-160.1853C860.7646,-158.6743 869.3961,-157.1474 877.8744,-155.6475\"/>\n<polygon fill=\"#000000\" stroke=\"#000000\" points=\"878.5048,-159.0904 887.7422,-153.9019 877.2854,-152.1975 878.5048,-159.0904\"/>\n</g>\n<!-- 13 -->\n<g id=\"node14\" class=\"node\">\n<title>13</title>\n<polygon fill=\"#39e581\" stroke=\"#000000\" points=\"835.5,-124 684.5,-124 684.5,-71 835.5,-71 835.5,-124\"/>\n<text text-anchor=\"middle\" x=\"760\" y=\"-108.8\" font-family=\"Helvetica,sans-Serif\" font-size=\"14.00\" fill=\"#000000\">entropy = 0.0</text>\n<text text-anchor=\"middle\" x=\"760\" y=\"-93.8\" font-family=\"Helvetica,sans-Serif\" font-size=\"14.00\" fill=\"#000000\">samples = 1.6%</text>\n<text text-anchor=\"middle\" x=\"760\" y=\"-78.8\" font-family=\"Helvetica,sans-Serif\" font-size=\"14.00\" fill=\"#000000\">value = [0.0, 1.0, 0.0]</text>\n</g>\n<!-- 12&#45;&gt;13 -->\n<g id=\"edge13\" class=\"edge\">\n<title>12&#45;&gt;13</title>\n<path fill=\"none\" stroke=\"#000000\" d=\"M632.0251,-97.5C645.9117,-97.5 660.1911,-97.5 673.9456,-97.5\"/>\n<polygon fill=\"#000000\" stroke=\"#000000\" points=\"674.3462,-101.0001 684.3462,-97.5 674.3462,-94.0001 674.3462,-101.0001\"/>\n</g>\n<!-- 14 -->\n<g id=\"node15\" class=\"node\">\n<title>14</title>\n<polygon fill=\"#e58139\" stroke=\"#000000\" points=\"835.5,-53 684.5,-53 684.5,0 835.5,0 835.5,-53\"/>\n<text text-anchor=\"middle\" x=\"760\" y=\"-37.8\" font-family=\"Helvetica,sans-Serif\" font-size=\"14.00\" fill=\"#000000\">entropy = 0.0</text>\n<text text-anchor=\"middle\" x=\"760\" y=\"-22.8\" font-family=\"Helvetica,sans-Serif\" font-size=\"14.00\" fill=\"#000000\">samples = 37.1%</text>\n<text text-anchor=\"middle\" x=\"760\" y=\"-7.8\" font-family=\"Helvetica,sans-Serif\" font-size=\"14.00\" fill=\"#000000\">value = [1.0, 0.0, 0.0]</text>\n</g>\n<!-- 12&#45;&gt;14 -->\n<g id=\"edge14\" class=\"edge\">\n<title>12&#45;&gt;14</title>\n<path fill=\"none\" stroke=\"#000000\" d=\"M632.0251,-67.801C646.184,-63.2315 660.7513,-58.5303 674.7541,-54.0112\"/>\n<polygon fill=\"#000000\" stroke=\"#000000\" points=\"675.9045,-57.3177 684.3462,-50.9155 673.7546,-50.6561 675.9045,-57.3177\"/>\n</g>\n</g>\n</svg>\n"
          },
          "metadata": {},
          "execution_count": 73
        }
      ]
    },
    {
      "cell_type": "markdown",
      "source": [
        "# Desempeño del modelo\n",
        "Comparativa de desempeño del modelo con los datos de entrenamiento y los de prueba/validación"
      ],
      "metadata": {
        "id": "J3pz4xxOJ39K"
      }
    },
    {
      "cell_type": "code",
      "source": [
        "from sklearn.metrics import r2_score, mean_squared_error"
      ],
      "metadata": {
        "id": "rh2mPa0qPLLb"
      },
      "execution_count": null,
      "outputs": []
    },
    {
      "cell_type": "code",
      "source": [
        "# Prediccion para el conjunto de datos de entrenamiento\n",
        "train_prediction = model.predict(x_train)\n",
        "\n",
        "# Prediccion para el conjunto de datos de prueba / validación\n",
        "test_prediction = model.predict(x_test)\n",
        "\n",
        "\n",
        "# Evaluación del modelo con los datos de entrenamiento\n",
        "train_score = model.score(x_train, y_train)\n",
        "\n",
        "# Evaluación del modelo con los datos de entrenamiento\n",
        "test_score = model.score(x_test, y_test)\n",
        "\n",
        "print(\"Presición Modelo Datos de Entrenamiento:\", train_score)\n",
        "print(\"Presición Modelo Datos de Prueba:\", test_score)"
      ],
      "metadata": {
        "colab": {
          "base_uri": "https://localhost:8080/"
        },
        "id": "Io2VXx4lJ1UF",
        "outputId": "a1135f2c-68f7-4526-9cc3-dad70311f053"
      },
      "execution_count": 74,
      "outputs": [
        {
          "output_type": "stream",
          "name": "stdout",
          "text": [
            "Presición Modelo Datos de Entrenamiento: 1.0\n",
            "Presición Modelo Datos de Prueba: 0.9814814814814815\n"
          ]
        }
      ]
    },
    {
      "cell_type": "markdown",
      "source": [
        "# Visualización: Salida del Modelo"
      ],
      "metadata": {
        "id": "OVvNjh0LT_gV"
      }
    },
    {
      "cell_type": "code",
      "source": [
        "# Predicción de todos los datos\n",
        "y_pred = model.predict(x)\n",
        "\n",
        "# Comparación primeros 10 datos\n",
        "comp_table = pd.DataFrame({'Real': data['Class'], 'Prediccion': y_pred})\n",
        "comp_table.head(10)"
      ],
      "metadata": {
        "colab": {
          "base_uri": "https://localhost:8080/",
          "height": 363
        },
        "id": "2WQqLj3jsnDu",
        "outputId": "0d9c3644-7f97-465f-de07-a0351a2f8de9"
      },
      "execution_count": 78,
      "outputs": [
        {
          "output_type": "execute_result",
          "data": {
            "text/plain": [
              "   Real  Prediccion\n",
              "0     1           1\n",
              "1     1           1\n",
              "2     1           1\n",
              "3     1           1\n",
              "4     1           1\n",
              "5     1           1\n",
              "6     1           1\n",
              "7     1           1\n",
              "8     1           1\n",
              "9     1           1"
            ],
            "text/html": [
              "\n",
              "  <div id=\"df-2db29cac-b991-470c-8600-869ca9d7b3c7\">\n",
              "    <div class=\"colab-df-container\">\n",
              "      <div>\n",
              "<style scoped>\n",
              "    .dataframe tbody tr th:only-of-type {\n",
              "        vertical-align: middle;\n",
              "    }\n",
              "\n",
              "    .dataframe tbody tr th {\n",
              "        vertical-align: top;\n",
              "    }\n",
              "\n",
              "    .dataframe thead th {\n",
              "        text-align: right;\n",
              "    }\n",
              "</style>\n",
              "<table border=\"1\" class=\"dataframe\">\n",
              "  <thead>\n",
              "    <tr style=\"text-align: right;\">\n",
              "      <th></th>\n",
              "      <th>Real</th>\n",
              "      <th>Prediccion</th>\n",
              "    </tr>\n",
              "  </thead>\n",
              "  <tbody>\n",
              "    <tr>\n",
              "      <th>0</th>\n",
              "      <td>1</td>\n",
              "      <td>1</td>\n",
              "    </tr>\n",
              "    <tr>\n",
              "      <th>1</th>\n",
              "      <td>1</td>\n",
              "      <td>1</td>\n",
              "    </tr>\n",
              "    <tr>\n",
              "      <th>2</th>\n",
              "      <td>1</td>\n",
              "      <td>1</td>\n",
              "    </tr>\n",
              "    <tr>\n",
              "      <th>3</th>\n",
              "      <td>1</td>\n",
              "      <td>1</td>\n",
              "    </tr>\n",
              "    <tr>\n",
              "      <th>4</th>\n",
              "      <td>1</td>\n",
              "      <td>1</td>\n",
              "    </tr>\n",
              "    <tr>\n",
              "      <th>5</th>\n",
              "      <td>1</td>\n",
              "      <td>1</td>\n",
              "    </tr>\n",
              "    <tr>\n",
              "      <th>6</th>\n",
              "      <td>1</td>\n",
              "      <td>1</td>\n",
              "    </tr>\n",
              "    <tr>\n",
              "      <th>7</th>\n",
              "      <td>1</td>\n",
              "      <td>1</td>\n",
              "    </tr>\n",
              "    <tr>\n",
              "      <th>8</th>\n",
              "      <td>1</td>\n",
              "      <td>1</td>\n",
              "    </tr>\n",
              "    <tr>\n",
              "      <th>9</th>\n",
              "      <td>1</td>\n",
              "      <td>1</td>\n",
              "    </tr>\n",
              "  </tbody>\n",
              "</table>\n",
              "</div>\n",
              "      <button class=\"colab-df-convert\" onclick=\"convertToInteractive('df-2db29cac-b991-470c-8600-869ca9d7b3c7')\"\n",
              "              title=\"Convert this dataframe to an interactive table.\"\n",
              "              style=\"display:none;\">\n",
              "        \n",
              "  <svg xmlns=\"http://www.w3.org/2000/svg\" height=\"24px\"viewBox=\"0 0 24 24\"\n",
              "       width=\"24px\">\n",
              "    <path d=\"M0 0h24v24H0V0z\" fill=\"none\"/>\n",
              "    <path d=\"M18.56 5.44l.94 2.06.94-2.06 2.06-.94-2.06-.94-.94-2.06-.94 2.06-2.06.94zm-11 1L8.5 8.5l.94-2.06 2.06-.94-2.06-.94L8.5 2.5l-.94 2.06-2.06.94zm10 10l.94 2.06.94-2.06 2.06-.94-2.06-.94-.94-2.06-.94 2.06-2.06.94z\"/><path d=\"M17.41 7.96l-1.37-1.37c-.4-.4-.92-.59-1.43-.59-.52 0-1.04.2-1.43.59L10.3 9.45l-7.72 7.72c-.78.78-.78 2.05 0 2.83L4 21.41c.39.39.9.59 1.41.59.51 0 1.02-.2 1.41-.59l7.78-7.78 2.81-2.81c.8-.78.8-2.07 0-2.86zM5.41 20L4 18.59l7.72-7.72 1.47 1.35L5.41 20z\"/>\n",
              "  </svg>\n",
              "      </button>\n",
              "      \n",
              "  <style>\n",
              "    .colab-df-container {\n",
              "      display:flex;\n",
              "      flex-wrap:wrap;\n",
              "      gap: 12px;\n",
              "    }\n",
              "\n",
              "    .colab-df-convert {\n",
              "      background-color: #E8F0FE;\n",
              "      border: none;\n",
              "      border-radius: 50%;\n",
              "      cursor: pointer;\n",
              "      display: none;\n",
              "      fill: #1967D2;\n",
              "      height: 32px;\n",
              "      padding: 0 0 0 0;\n",
              "      width: 32px;\n",
              "    }\n",
              "\n",
              "    .colab-df-convert:hover {\n",
              "      background-color: #E2EBFA;\n",
              "      box-shadow: 0px 1px 2px rgba(60, 64, 67, 0.3), 0px 1px 3px 1px rgba(60, 64, 67, 0.15);\n",
              "      fill: #174EA6;\n",
              "    }\n",
              "\n",
              "    [theme=dark] .colab-df-convert {\n",
              "      background-color: #3B4455;\n",
              "      fill: #D2E3FC;\n",
              "    }\n",
              "\n",
              "    [theme=dark] .colab-df-convert:hover {\n",
              "      background-color: #434B5C;\n",
              "      box-shadow: 0px 1px 3px 1px rgba(0, 0, 0, 0.15);\n",
              "      filter: drop-shadow(0px 1px 2px rgba(0, 0, 0, 0.3));\n",
              "      fill: #FFFFFF;\n",
              "    }\n",
              "  </style>\n",
              "\n",
              "      <script>\n",
              "        const buttonEl =\n",
              "          document.querySelector('#df-2db29cac-b991-470c-8600-869ca9d7b3c7 button.colab-df-convert');\n",
              "        buttonEl.style.display =\n",
              "          google.colab.kernel.accessAllowed ? 'block' : 'none';\n",
              "\n",
              "        async function convertToInteractive(key) {\n",
              "          const element = document.querySelector('#df-2db29cac-b991-470c-8600-869ca9d7b3c7');\n",
              "          const dataTable =\n",
              "            await google.colab.kernel.invokeFunction('convertToInteractive',\n",
              "                                                     [key], {});\n",
              "          if (!dataTable) return;\n",
              "\n",
              "          const docLinkHtml = 'Like what you see? Visit the ' +\n",
              "            '<a target=\"_blank\" href=https://colab.research.google.com/notebooks/data_table.ipynb>data table notebook</a>'\n",
              "            + ' to learn more about interactive tables.';\n",
              "          element.innerHTML = '';\n",
              "          dataTable['output_type'] = 'display_data';\n",
              "          await google.colab.output.renderOutput(dataTable, element);\n",
              "          const docLink = document.createElement('div');\n",
              "          docLink.innerHTML = docLinkHtml;\n",
              "          element.appendChild(docLink);\n",
              "        }\n",
              "      </script>\n",
              "    </div>\n",
              "  </div>\n",
              "  "
            ]
          },
          "metadata": {},
          "execution_count": 78
        }
      ]
    }
  ]
}